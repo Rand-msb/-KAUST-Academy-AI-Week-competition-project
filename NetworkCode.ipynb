{
 "cells": [
  {
   "cell_type": "code",
   "execution_count": 1,
   "id": "158e3686",
   "metadata": {
    "_cell_guid": "b1076dfc-b9ad-4769-8c92-a6c4dae69d19",
    "_uuid": "8f2839f25d086af736a60e9eeb907d3b93b6e0e5",
    "execution": {
     "iopub.execute_input": "2022-12-01T13:58:17.674841Z",
     "iopub.status.busy": "2022-12-01T13:58:17.674459Z",
     "iopub.status.idle": "2022-12-01T13:58:21.831733Z",
     "shell.execute_reply": "2022-12-01T13:58:21.830631Z"
    },
    "papermill": {
     "duration": 4.166968,
     "end_time": "2022-12-01T13:58:21.834366",
     "exception": false,
     "start_time": "2022-12-01T13:58:17.667398",
     "status": "completed"
    },
    "tags": []
   },
   "outputs": [],
   "source": [
    "import pathlib\n",
    "\n",
    "import numpy as np # linear algebra\n",
    "import pandas as pd # data processing, CSV file I/O (e.g. pd.read_csv)\n",
    "from sklearn import compose, impute, linear_model, model_selection, pipeline, preprocessing \n",
    "import torch\n",
    "from torch import nn, optim, utils\n",
    "import torchmetrics"
   ]
  },
  {
   "cell_type": "code",
   "execution_count": 2,
   "id": "b5be17c7",
   "metadata": {
    "execution": {
     "iopub.execute_input": "2022-12-01T13:58:21.846641Z",
     "iopub.status.busy": "2022-12-01T13:58:21.845258Z",
     "iopub.status.idle": "2022-12-01T13:58:21.850589Z",
     "shell.execute_reply": "2022-12-01T13:58:21.849570Z"
    },
    "papermill": {
     "duration": 0.013462,
     "end_time": "2022-12-01T13:58:21.852834",
     "exception": false,
     "start_time": "2022-12-01T13:58:21.839372",
     "status": "completed"
    },
    "tags": []
   },
   "outputs": [],
   "source": [
    "INPUT_DIR = pathlib.Path(\"/kaggle/input/kaust-academy-ai-week-november-2022\")\n",
    "WORKING_DIR = pathlib.Path(\"/kaggle/working\")"
   ]
  },
  {
   "cell_type": "markdown",
   "id": "f7d8d699",
   "metadata": {
    "papermill": {
     "duration": 0.004447,
     "end_time": "2022-12-01T13:58:21.861927",
     "exception": false,
     "start_time": "2022-12-01T13:58:21.857480",
     "status": "completed"
    },
    "tags": []
   },
   "source": [
    "# 1. Load the training data"
   ]
  },
  {
   "cell_type": "code",
   "execution_count": 3,
   "id": "0abd627e",
   "metadata": {
    "execution": {
     "iopub.execute_input": "2022-12-01T13:58:21.872235Z",
     "iopub.status.busy": "2022-12-01T13:58:21.871981Z",
     "iopub.status.idle": "2022-12-01T13:58:21.967424Z",
     "shell.execute_reply": "2022-12-01T13:58:21.966562Z"
    },
    "papermill": {
     "duration": 0.102906,
     "end_time": "2022-12-01T13:58:21.969489",
     "exception": false,
     "start_time": "2022-12-01T13:58:21.866583",
     "status": "completed"
    },
    "tags": []
   },
   "outputs": [],
   "source": [
    "_train_df = pd.read_csv(\n",
    "    INPUT_DIR / \"train.csv\",\n",
    "    index_col=\"PassengerId\",\n",
    ")\n",
    "\n",
    "# need to have some validation data\n",
    "_seed = 42\n",
    "train_df, val_df = model_selection.train_test_split(\n",
    "    _train_df,\n",
    "    test_size=0.1,\n",
    "    random_state = np.random.RandomState(_seed),\n",
    "    stratify=_train_df.loc[:, \"Transported\"],\n",
    ")"
   ]
  },
  {
   "cell_type": "markdown",
   "id": "5d497f91",
   "metadata": {
    "papermill": {
     "duration": 0.004583,
     "end_time": "2022-12-01T13:58:21.978875",
     "exception": false,
     "start_time": "2022-12-01T13:58:21.974292",
     "status": "completed"
    },
    "tags": []
   },
   "source": [
    "# 2. Divide the training (validation) features from the training (validation) target "
   ]
  },
  {
   "cell_type": "code",
   "execution_count": 4,
   "id": "6efd5e38",
   "metadata": {
    "execution": {
     "iopub.execute_input": "2022-12-01T13:58:21.990032Z",
     "iopub.status.busy": "2022-12-01T13:58:21.989182Z",
     "iopub.status.idle": "2022-12-01T13:58:21.997104Z",
     "shell.execute_reply": "2022-12-01T13:58:21.996246Z"
    },
    "papermill": {
     "duration": 0.015489,
     "end_time": "2022-12-01T13:58:21.999028",
     "exception": false,
     "start_time": "2022-12-01T13:58:21.983539",
     "status": "completed"
    },
    "tags": []
   },
   "outputs": [],
   "source": [
    "train_features = train_df.drop(\"Transported\", axis=1)\n",
    "train_target =  train_df.loc[:, \"Transported\"]\n",
    "\n",
    "val_features = val_df.drop(\"Transported\", axis=1)\n",
    "val_target =  val_df.loc[:, \"Transported\"]"
   ]
  },
  {
   "cell_type": "markdown",
   "id": "5360c4b1",
   "metadata": {
    "papermill": {
     "duration": 0.00449,
     "end_time": "2022-12-01T13:58:22.008229",
     "exception": false,
     "start_time": "2022-12-01T13:58:22.003739",
     "status": "completed"
    },
    "tags": []
   },
   "source": [
    "# 3. Data preprocessing"
   ]
  },
  {
   "cell_type": "code",
   "execution_count": 5,
   "id": "3b62b2b4",
   "metadata": {
    "execution": {
     "iopub.execute_input": "2022-12-01T13:58:22.020030Z",
     "iopub.status.busy": "2022-12-01T13:58:22.019759Z",
     "iopub.status.idle": "2022-12-01T13:58:22.028470Z",
     "shell.execute_reply": "2022-12-01T13:58:22.027381Z"
    },
    "papermill": {
     "duration": 0.017604,
     "end_time": "2022-12-01T13:58:22.030553",
     "exception": false,
     "start_time": "2022-12-01T13:58:22.012949",
     "status": "completed"
    },
    "tags": []
   },
   "outputs": [],
   "source": [
    "boolean_preprocessing = pipeline.make_pipeline(\n",
    "    impute.SimpleImputer(strategy=\"most_frequent\"),\n",
    ")\n",
    "\n",
    "categorical_preprocessing = pipeline.make_pipeline(\n",
    "    impute.SimpleImputer(strategy=\"most_frequent\"),\n",
    "    preprocessing.OneHotEncoder(),\n",
    ")\n",
    "\n",
    "numeric_preprocessing = pipeline.make_pipeline(\n",
    "    impute.SimpleImputer(strategy=\"mean\")\n",
    ")\n",
    "\n",
    "to_torch_tensor = pipeline.make_pipeline(\n",
    "    preprocessing.FunctionTransformer(lambda arr: arr.astype(np.float32)),\n",
    "    preprocessing.FunctionTransformer(lambda arr: torch.from_numpy(arr))\n",
    ")\n",
    "\n",
    "feature_column_transformer = compose.make_column_transformer(\n",
    "    (boolean_preprocessing, [\"CryoSleep\", \"VIP\"]),\n",
    "    (categorical_preprocessing, [\"HomePlanet\", \"Destination\"]),\n",
    "    (numeric_preprocessing, compose.make_column_selector(dtype_include=np.float64)),\n",
    "    remainder = \"drop\",\n",
    ")\n",
    "\n",
    "feature_preprocessing = pipeline.make_pipeline(\n",
    "    feature_column_transformer ,\n",
    "    to_torch_tensor\n",
    ")\n",
    "\n",
    "target_preprocessing = pipeline.make_pipeline(\n",
    "    preprocessing.FunctionTransformer(lambda df: df.to_numpy()),\n",
    "    to_torch_tensor\n",
    ")"
   ]
  },
  {
   "cell_type": "markdown",
   "id": "3574dbf8",
   "metadata": {
    "papermill": {
     "duration": 0.004519,
     "end_time": "2022-12-01T13:58:22.040149",
     "exception": false,
     "start_time": "2022-12-01T13:58:22.035630",
     "status": "completed"
    },
    "tags": []
   },
   "source": [
    "# 4. Create your datasets and dataloaders"
   ]
  },
  {
   "cell_type": "code",
   "execution_count": 6,
   "id": "17ae5875",
   "metadata": {
    "execution": {
     "iopub.execute_input": "2022-12-01T13:58:22.050715Z",
     "iopub.status.busy": "2022-12-01T13:58:22.050458Z",
     "iopub.status.idle": "2022-12-01T13:58:22.095626Z",
     "shell.execute_reply": "2022-12-01T13:58:22.094750Z"
    },
    "papermill": {
     "duration": 0.05253,
     "end_time": "2022-12-01T13:58:22.097547",
     "exception": false,
     "start_time": "2022-12-01T13:58:22.045017",
     "status": "completed"
    },
    "tags": []
   },
   "outputs": [],
   "source": [
    "BATCH_SIZE = 32\n",
    "NUM_WORKERS = 2\n",
    "\n",
    "train_features_tensor = feature_preprocessing.fit_transform(train_features)\n",
    "train_target_tensor = target_preprocessing.fit_transform(train_target)\n",
    "\n",
    "train_dataset = utils.data.TensorDataset(train_features_tensor, train_target_tensor)\n",
    "train_dataloader = utils.data.DataLoader(\n",
    "    train_dataset,\n",
    "    batch_size=BATCH_SIZE,\n",
    "    num_workers=NUM_WORKERS,\n",
    ")\n",
    "\n",
    "val_features_tensor = feature_preprocessing.transform(val_features)\n",
    "val_target_tensor = target_preprocessing.transform(val_target)\n",
    "\n",
    "val_dataset = utils.data.TensorDataset(val_features_tensor, val_target_tensor)\n",
    "val_dataloader = utils.data.DataLoader(\n",
    "    val_dataset,\n",
    "    batch_size=BATCH_SIZE,\n",
    "    num_workers=NUM_WORKERS,\n",
    ")"
   ]
  },
  {
   "cell_type": "code",
   "execution_count": 7,
   "id": "d79d9f69",
   "metadata": {
    "execution": {
     "iopub.execute_input": "2022-12-01T13:58:22.107903Z",
     "iopub.status.busy": "2022-12-01T13:58:22.107629Z",
     "iopub.status.idle": "2022-12-01T13:58:22.120442Z",
     "shell.execute_reply": "2022-12-01T13:58:22.119439Z"
    },
    "papermill": {
     "duration": 0.020566,
     "end_time": "2022-12-01T13:58:22.122762",
     "exception": false,
     "start_time": "2022-12-01T13:58:22.102196",
     "status": "completed"
    },
    "tags": []
   },
   "outputs": [],
   "source": [
    "%config Completer.use_jedi = False"
   ]
  },
  {
   "cell_type": "code",
   "execution_count": 8,
   "id": "3c733233",
   "metadata": {
    "execution": {
     "iopub.execute_input": "2022-12-01T13:58:22.133091Z",
     "iopub.status.busy": "2022-12-01T13:58:22.132808Z",
     "iopub.status.idle": "2022-12-01T13:58:22.141904Z",
     "shell.execute_reply": "2022-12-01T13:58:22.140767Z"
    },
    "papermill": {
     "duration": 0.016524,
     "end_time": "2022-12-01T13:58:22.143974",
     "exception": false,
     "start_time": "2022-12-01T13:58:22.127450",
     "status": "completed"
    },
    "tags": []
   },
   "outputs": [
    {
     "name": "stdout",
     "output_type": "stream",
     "text": [
      "tensor([[  1.,   0.,   0.,  ...,   0.,   0.,   0.],\n",
      "        [  1.,   0.,   0.,  ...,   0.,   0.,   0.],\n",
      "        [  0.,   0.,   1.,  ...,   0.,   4., 811.],\n",
      "        ...,\n",
      "        [  1.,   0.,   1.,  ...,   0.,   0.,   0.],\n",
      "        [  1.,   0.,   1.,  ...,   0.,   0.,   0.],\n",
      "        [  1.,   0.,   1.,  ...,   0.,   0.,   0.]])\n"
     ]
    }
   ],
   "source": [
    "print(train_features_tensor)"
   ]
  },
  {
   "cell_type": "markdown",
   "id": "bdd89a50",
   "metadata": {
    "papermill": {
     "duration": 0.004497,
     "end_time": "2022-12-01T13:58:22.153165",
     "exception": false,
     "start_time": "2022-12-01T13:58:22.148668",
     "status": "completed"
    },
    "tags": []
   },
   "source": [
    "# 5. Define a multi-layer perceptron classifier"
   ]
  },
  {
   "cell_type": "code",
   "execution_count": 9,
   "id": "7b4abb54",
   "metadata": {
    "execution": {
     "iopub.execute_input": "2022-12-01T13:58:22.164116Z",
     "iopub.status.busy": "2022-12-01T13:58:22.163527Z",
     "iopub.status.idle": "2022-12-01T13:58:22.173267Z",
     "shell.execute_reply": "2022-12-01T13:58:22.172417Z"
    },
    "papermill": {
     "duration": 0.017347,
     "end_time": "2022-12-01T13:58:22.175262",
     "exception": false,
     "start_time": "2022-12-01T13:58:22.157915",
     "status": "completed"
    },
    "tags": []
   },
   "outputs": [],
   "source": [
    "_, in_features = train_features_tensor.shape\n",
    "hidden_features = [256,  64,32, 16,]\n",
    "model_fn = nn.Sequential(\n",
    "    # TODO: Define your network here!\n",
    "    nn.Linear(14,256),\n",
    "    nn.ReLU(),\n",
    "    nn.BatchNorm1d(256),\n",
    "\n",
    "    nn.Linear(256,32),\n",
    "    nn.ReLU(),\n",
    "\n",
    "#     nn.Linear(16,2),\n",
    "#     nn.ReLU(),\n",
    "#     nn.BatchNorm1d(64),\n",
    "# nn.Linear(64,32),\n",
    "#     nn.ReLU(),\n",
    "     nn.BatchNorm1d(32),\n",
    "     nn.Linear(32,16),\n",
    "    nn.ReLU(),\n",
    "    nn.Dropout(),\n",
    "\n",
    "    nn.Linear(16,1),\n",
    "    nn.Sigmoid()\n",
    "    \n",
    "    \n",
    ")\n",
    "loss_fn = nn.BCELoss()\n",
    "_optimizer_kwargs = {\n",
    " \"momentum\": 0.001,\n",
    " \"nesterov\": False,\n",
    "}\n",
    "optimizer = optim.SGD(model_fn.parameters(), lr=1e-6, **_optimizer_kwargs)\n"
   ]
  },
  {
   "cell_type": "markdown",
   "id": "2b0cfa4d",
   "metadata": {
    "papermill": {
     "duration": 0.00452,
     "end_time": "2022-12-01T13:58:22.184661",
     "exception": false,
     "start_time": "2022-12-01T13:58:22.180141",
     "status": "completed"
    },
    "tags": []
   },
   "source": [
    "# 6. Train your classifier"
   ]
  },
  {
   "cell_type": "code",
   "execution_count": 10,
   "id": "899d9b2f",
   "metadata": {
    "execution": {
     "iopub.execute_input": "2022-12-01T13:58:22.195304Z",
     "iopub.status.busy": "2022-12-01T13:58:22.195050Z",
     "iopub.status.idle": "2022-12-01T14:02:42.939325Z",
     "shell.execute_reply": "2022-12-01T14:02:42.938165Z"
    },
    "papermill": {
     "duration": 260.752632,
     "end_time": "2022-12-01T14:02:42.941976",
     "exception": false,
     "start_time": "2022-12-01T13:58:22.189344",
     "status": "completed"
    },
    "tags": []
   },
   "outputs": [
    {
     "name": "stdout",
     "output_type": "stream",
     "text": [
      "Epoch 0, Training Loss 0.6901, Validation Loss 0.6958\n",
      "Epoch 20, Training Loss 0.6908, Validation Loss 0.6879\n",
      "Epoch 40, Training Loss 0.6906, Validation Loss 0.6924\n",
      "Epoch 60, Training Loss 0.6867, Validation Loss 0.6844\n",
      "Epoch 80, Training Loss 0.6853, Validation Loss 0.6808\n",
      "Epoch 100, Training Loss 0.6846, Validation Loss 0.6812\n",
      "Epoch 120, Training Loss 0.6814, Validation Loss 0.6871\n",
      "Epoch 140, Training Loss 0.6822, Validation Loss 0.6783\n",
      "Epoch 160, Training Loss 0.6813, Validation Loss 0.6808\n",
      "Epoch 180, Training Loss 0.6794, Validation Loss 0.6760\n",
      "Epoch 200, Training Loss 0.6782, Validation Loss 0.6810\n",
      "Epoch 220, Training Loss 0.6756, Validation Loss 0.6780\n",
      "Epoch 240, Training Loss 0.6722, Validation Loss 0.6732\n"
     ]
    }
   ],
   "source": [
    "epochs = 260\n",
    "log_epochs = 20\n",
    "\n",
    "for epoch in range(epochs):\n",
    "    \n",
    "    train_losses = []\n",
    "    for features, targets in train_dataloader:\n",
    "        \n",
    "        # forward pass\n",
    "        predictions = model_fn(features) \n",
    "        predictions=predictions.squeeze(1)\n",
    "\n",
    "        train_loss = loss_fn(predictions, targets)\n",
    "        train_losses.append(train_loss)\n",
    "        \n",
    "        # backward pass\n",
    "        train_loss.backward()        \n",
    "        optimizer.step()        \n",
    "        optimizer.zero_grad()\n",
    "        \n",
    "    train_loss = (torch.stack(train_losses)\n",
    "                       .mean())\n",
    "    \n",
    "    with torch.no_grad():\n",
    "        \n",
    "        val_losses = []\n",
    "        for features, targets in val_dataloader:\n",
    "            predictions = model_fn(features)\n",
    "            predictions=predictions.squeeze(1)\n",
    "            \n",
    "            val_loss = loss_fn(predictions, targets)\n",
    "            val_losses.append(val_loss)\n",
    "    \n",
    "        val_loss = (torch.stack(val_losses)\n",
    "                         .mean())\n",
    "\n",
    "    if epoch % log_epochs == 0:\n",
    "        print(f'Epoch {epoch}, Training Loss {train_loss.item():.4f}, Validation Loss {val_loss.item():.4f}')"
   ]
  },
  {
   "cell_type": "markdown",
   "id": "dba64842",
   "metadata": {
    "papermill": {
     "duration": 0.005238,
     "end_time": "2022-12-01T14:02:42.953162",
     "exception": false,
     "start_time": "2022-12-01T14:02:42.947924",
     "status": "completed"
    },
    "tags": []
   },
   "source": [
    "# 7. Load the testing features"
   ]
  },
  {
   "cell_type": "code",
   "execution_count": 11,
   "id": "61dda106",
   "metadata": {
    "execution": {
     "iopub.execute_input": "2022-12-01T14:02:42.967327Z",
     "iopub.status.busy": "2022-12-01T14:02:42.965647Z",
     "iopub.status.idle": "2022-12-01T14:02:42.997542Z",
     "shell.execute_reply": "2022-12-01T14:02:42.996680Z"
    },
    "papermill": {
     "duration": 0.040745,
     "end_time": "2022-12-01T14:02:42.999569",
     "exception": false,
     "start_time": "2022-12-01T14:02:42.958824",
     "status": "completed"
    },
    "tags": []
   },
   "outputs": [],
   "source": [
    "test_features =  pd.read_csv(\n",
    "    INPUT_DIR / \"test.csv\",\n",
    "    index_col=\"PassengerId\",\n",
    ")"
   ]
  },
  {
   "cell_type": "markdown",
   "id": "5b01fe08",
   "metadata": {
    "papermill": {
     "duration": 0.005176,
     "end_time": "2022-12-01T14:02:43.010353",
     "exception": false,
     "start_time": "2022-12-01T14:02:43.005177",
     "status": "completed"
    },
    "tags": []
   },
   "source": [
    "# 8. Make predictions using the test features"
   ]
  },
  {
   "cell_type": "code",
   "execution_count": 12,
   "id": "6b531cac",
   "metadata": {
    "execution": {
     "iopub.execute_input": "2022-12-01T14:02:43.022549Z",
     "iopub.status.busy": "2022-12-01T14:02:43.022270Z",
     "iopub.status.idle": "2022-12-01T14:02:43.041286Z",
     "shell.execute_reply": "2022-12-01T14:02:43.040455Z"
    },
    "papermill": {
     "duration": 0.027555,
     "end_time": "2022-12-01T14:02:43.043356",
     "exception": false,
     "start_time": "2022-12-01T14:02:43.015801",
     "status": "completed"
    },
    "tags": []
   },
   "outputs": [],
   "source": [
    "features_tensor = feature_preprocessing.transform(test_features)"
   ]
  },
  {
   "cell_type": "code",
   "execution_count": 13,
   "id": "e6d24333",
   "metadata": {
    "execution": {
     "iopub.execute_input": "2022-12-01T14:02:43.055303Z",
     "iopub.status.busy": "2022-12-01T14:02:43.055030Z",
     "iopub.status.idle": "2022-12-01T14:02:43.071084Z",
     "shell.execute_reply": "2022-12-01T14:02:43.070249Z"
    },
    "papermill": {
     "duration": 0.024162,
     "end_time": "2022-12-01T14:02:43.072994",
     "exception": false,
     "start_time": "2022-12-01T14:02:43.048832",
     "status": "completed"
    },
    "tags": []
   },
   "outputs": [],
   "source": [
    "with torch.no_grad():\n",
    "    probas = model_fn(features_tensor)\n",
    "predictions = probas[:, 0] > 0.5"
   ]
  },
  {
   "cell_type": "markdown",
   "id": "9f6e0201",
   "metadata": {
    "papermill": {
     "duration": 0.005334,
     "end_time": "2022-12-01T14:02:43.083686",
     "exception": false,
     "start_time": "2022-12-01T14:02:43.078352",
     "status": "completed"
    },
    "tags": []
   },
   "source": [
    "# 9. Load the sample submission file "
   ]
  },
  {
   "cell_type": "code",
   "execution_count": 14,
   "id": "86ac9a84",
   "metadata": {
    "execution": {
     "iopub.execute_input": "2022-12-01T14:02:43.095586Z",
     "iopub.status.busy": "2022-12-01T14:02:43.095270Z",
     "iopub.status.idle": "2022-12-01T14:02:43.112319Z",
     "shell.execute_reply": "2022-12-01T14:02:43.111504Z"
    },
    "papermill": {
     "duration": 0.025291,
     "end_time": "2022-12-01T14:02:43.114294",
     "exception": false,
     "start_time": "2022-12-01T14:02:43.089003",
     "status": "completed"
    },
    "tags": []
   },
   "outputs": [],
   "source": [
    "sample_submission_df = pd.read_csv(\n",
    "    INPUT_DIR / \"sample_submission.csv\",\n",
    "    index_col=\"PassengerId\",\n",
    ")"
   ]
  },
  {
   "cell_type": "markdown",
   "id": "5f9171a6",
   "metadata": {
    "papermill": {
     "duration": 0.005351,
     "end_time": "2022-12-01T14:02:43.125013",
     "exception": false,
     "start_time": "2022-12-01T14:02:43.119662",
     "status": "completed"
    },
    "tags": []
   },
   "source": [
    "# 10. Create the submission file"
   ]
  },
  {
   "cell_type": "code",
   "execution_count": 15,
   "id": "5214fa35",
   "metadata": {
    "execution": {
     "iopub.execute_input": "2022-12-01T14:02:43.136707Z",
     "iopub.status.busy": "2022-12-01T14:02:43.136450Z",
     "iopub.status.idle": "2022-12-01T14:02:43.146811Z",
     "shell.execute_reply": "2022-12-01T14:02:43.146032Z"
    },
    "papermill": {
     "duration": 0.018346,
     "end_time": "2022-12-01T14:02:43.148642",
     "exception": false,
     "start_time": "2022-12-01T14:02:43.130296",
     "status": "completed"
    },
    "tags": []
   },
   "outputs": [],
   "source": [
    "_ = (pd.DataFrame({\"Transported\": predictions}, index=sample_submission_df.index)\n",
    "       .to_csv(WORKING_DIR / \"submission.csv\"))  "
   ]
  },
  {
   "cell_type": "code",
   "execution_count": null,
   "id": "791bed6a",
   "metadata": {
    "papermill": {
     "duration": 0.005182,
     "end_time": "2022-12-01T14:02:43.159275",
     "exception": false,
     "start_time": "2022-12-01T14:02:43.154093",
     "status": "completed"
    },
    "tags": []
   },
   "outputs": [],
   "source": []
  }
 ],
 "metadata": {
  "kernelspec": {
   "display_name": "Python 3",
   "language": "python",
   "name": "python3"
  },
  "language_info": {
   "codemirror_mode": {
    "name": "ipython",
    "version": 3
   },
   "file_extension": ".py",
   "mimetype": "text/x-python",
   "name": "python",
   "nbconvert_exporter": "python",
   "pygments_lexer": "ipython3",
   "version": "3.7.12"
  },
  "papermill": {
   "default_parameters": {},
   "duration": 274.083229,
   "end_time": "2022-12-01T14:02:44.387952",
   "environment_variables": {},
   "exception": null,
   "input_path": "__notebook__.ipynb",
   "output_path": "__notebook__.ipynb",
   "parameters": {},
   "start_time": "2022-12-01T13:58:10.304723",
   "version": "2.3.4"
  }
 },
 "nbformat": 4,
 "nbformat_minor": 5
}
